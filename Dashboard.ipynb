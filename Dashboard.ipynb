<<<<<<< HEAD
{
 "cells": [
  {
   "cell_type": "code",
   "execution_count": 2,
   "metadata": {},
   "outputs": [],
   "source": [
    "import pandas as pd\n",
    "import nfl_data_py as nfl"
   ]
  },
  {
   "cell_type": "code",
   "execution_count": 3,
   "metadata": {},
   "outputs": [
    {
     "name": "stdout",
     "output_type": "stream",
     "text": [
      "1999 done.\n",
      "Downcasting floats.\n",
      "2000 done.\n",
      "Downcasting floats.\n",
      "2001 done.\n",
      "Downcasting floats.\n",
      "2002 done.\n",
      "Downcasting floats.\n",
      "2003 done.\n",
      "Downcasting floats.\n",
      "2004 done.\n",
      "Downcasting floats.\n",
      "2005 done.\n",
      "Downcasting floats.\n",
      "2006 done.\n",
      "Downcasting floats.\n",
      "2007 done.\n",
      "Downcasting floats.\n",
      "2008 done.\n",
      "Downcasting floats.\n",
      "2009 done.\n",
      "Downcasting floats.\n",
      "2010 done.\n",
      "Downcasting floats.\n",
      "2011 done.\n",
      "Downcasting floats.\n",
      "2012 done.\n",
      "Downcasting floats.\n",
      "2013 done.\n",
      "Downcasting floats.\n",
      "2014 done.\n",
      "Downcasting floats.\n",
      "2015 done.\n",
      "Downcasting floats.\n",
      "2016 done.\n",
      "Downcasting floats.\n",
      "2017 done.\n",
      "Downcasting floats.\n",
      "2018 done.\n",
      "Downcasting floats.\n",
      "2019 done.\n",
      "Downcasting floats.\n",
      "2020 done.\n",
      "Downcasting floats.\n",
      "2021 done.\n",
      "Downcasting floats.\n",
      "2022 done.\n",
      "Downcasting floats.\n",
      "2023 done.\n",
      "Downcasting floats.\n"
     ]
    }
   ],
   "source": [
    "pbp = pd.DataFrame()\n",
    "\n",
    "for year in range(1999, 2024): \n",
    "    # Correctly pass the year as a list to comply with the function's requirements\n",
    "    year_pbp_data = nfl.import_pbp_data([year])\n",
    "    \n",
    "    # Append the data for the current year to the cumulative DataFrame\n",
    "    pbp = pd.concat([pbp, year_pbp_data], ignore_index=True)"
   ]
  },
  {
   "cell_type": "code",
   "execution_count": 4,
   "metadata": {},
   "outputs": [
    {
     "data": {
      "text/plain": [
       "(1198382, 390)"
      ]
     },
     "execution_count": 4,
     "metadata": {},
     "output_type": "execute_result"
    }
   ],
   "source": [
    "pbp.shape"
   ]
  },
  {
   "cell_type": "code",
   "execution_count": 5,
   "metadata": {},
   "outputs": [
    {
     "data": {
      "text/plain": [
       "(875154, 390)"
      ]
     },
     "execution_count": 5,
     "metadata": {},
     "output_type": "execute_result"
    }
   ],
   "source": [
    "pbp_rp = pbp[(pbp['pass'] == 1) | (pbp['rush'] == 1)]\n",
    "pbp_rp = pbp_rp.dropna(subset=['epa', 'posteam', 'defteam'])\n",
    "pbp_rp.shape"
   ]
  },
  {
   "cell_type": "code",
   "execution_count": null,
   "metadata": {},
   "outputs": [],
   "source": []
  },
  {
   "cell_type": "code",
   "execution_count": null,
   "metadata": {},
   "outputs": [],
   "source": []
  },
  {
   "cell_type": "code",
   "execution_count": null,
   "metadata": {},
   "outputs": [],
   "source": []
  }
 ],
 "metadata": {
  "kernelspec": {
   "display_name": "Python 3",
   "language": "python",
   "name": "python3"
  },
  "language_info": {
   "codemirror_mode": {
    "name": "ipython",
    "version": 3
   },
   "file_extension": ".py",
   "mimetype": "text/x-python",
   "name": "python",
   "nbconvert_exporter": "python",
   "pygments_lexer": "ipython3",
   "version": "3.11.5"
  }
 },
 "nbformat": 4,
 "nbformat_minor": 2
}
=======
import pandas as pd
import nfl_data_py as nfl
>>>>>>> 75daa5048f96718429875102fa70d42cf4ef7dde
